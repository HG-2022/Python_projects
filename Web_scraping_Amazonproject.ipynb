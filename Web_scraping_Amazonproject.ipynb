{
  "nbformat": 4,
  "nbformat_minor": 0,
  "metadata": {
    "colab": {
      "provenance": [],
      "authorship_tag": "ABX9TyOfivvwDATuff+zGQ6ul/wC",
      "include_colab_link": true
    },
    "kernelspec": {
      "name": "python3",
      "display_name": "Python 3"
    },
    "language_info": {
      "name": "python"
    }
  },
  "cells": [
    {
      "cell_type": "markdown",
      "metadata": {
        "id": "view-in-github",
        "colab_type": "text"
      },
      "source": [
        "<a href=\"https://colab.research.google.com/github/HG-2022/Python_projects/blob/main/Web_scraping_Amazonproject.ipynb\" target=\"_parent\"><img src=\"https://colab.research.google.com/assets/colab-badge.svg\" alt=\"Open In Colab\"/></a>"
      ]
    },
    {
      "cell_type": "code",
      "execution_count": 2,
      "metadata": {
        "id": "oQKYWN5y10wM"
      },
      "outputs": [],
      "source": [
        "from bs4 import BeautifulSoup \n",
        "import requests\n",
        "import smtplib\n",
        "import time\n",
        "import datetime"
      ]
    },
    {
      "cell_type": "code",
      "source": [
        "#load web page url\n",
        "url= 'https://www.amazon.com/Funny-Data-Systems-Business-Analyst/dp/B07FNW9FGJ/ref=sr_1_3?dchild=1&keywords=data%2Banalyst%2Btshirt&qid=1626655184&sr=8-3&customId=B0752XJYNL&th=1'\n",
        "\n",
        "headers = {\"User-Agent\": \"Mozilla/5.0 (Windows NT 10.0; Win64; x64) AppleWebKit/537.36 (KHTML, like Gecko) Chrome/78.0.3904.108 Safari/537.36\", \"Accept-Encoding\":\"gzip, deflate\", \"Accept\":\"text/html,application/xhtml+xml,application/xml;q=0.9,*/*;q=0.8\", \"DNT\":\"1\",\"Connection\":\"close\", \"Upgrade-Insecure-Requests\":\"1\"}\n",
        "\n",
        "#load web page conntent\n",
        "page = requests.get(url, headers=headers)\n",
        "\n",
        "#convert to a beautifulsoup object\n",
        "soup1 = BeautifulSoup(page.content, \"html.parser\")\n",
        "#print(soup1)\n",
        "soup2 = BeautifulSoup(soup1.prettify(), \"html.parser\")\n",
        "#print(soup2)\n",
        "\n",
        "title=soup2.find(id='productTitle').get_text()\n",
        "print(title)\n",
        "custrating=soup2.find(id='acrCustomerReviewText').get_text()\n",
        "print(custrating)\n",
        "returns=soup2.find(id='creturns-policy-anchor-text').get_text()\n",
        "print(returns)\n",
        "size=soup2.find(id='inline-twister-expanded-dimension-text-size_name').get_text()\n",
        "print(size)\n",
        "\n",
        "\n",
        "\n"
      ],
      "metadata": {
        "colab": {
          "base_uri": "https://localhost:8080/"
        },
        "id": "Y_ITYVtU0mGq",
        "outputId": "d3b77c9b-33a8-44bc-d615-49845a5784a8"
      },
      "execution_count": 3,
      "outputs": [
        {
          "output_type": "stream",
          "name": "stdout",
          "text": [
            "\n",
            "                   Funny Got Data MIS Data Systems Business Analyst T-Shirt\n",
            "                  \n",
            "\n",
            "                    15 ratings\n",
            "                   \n",
            "\n",
            "                    FREE Returns\n",
            "                    \n",
            "\n",
            "\n",
            "\n",
            "      Select Size\n",
            "     \n"
          ]
        }
      ]
    },
    {
      "cell_type": "code",
      "source": [
        "#cleaning\n",
        "title=title.strip()\n",
        "custrating=custrating.strip()\n",
        "returns=returns.strip()\n",
        "print(title)\n",
        "print(custrating)\n",
        "print(returns)\n"
      ],
      "metadata": {
        "colab": {
          "base_uri": "https://localhost:8080/"
        },
        "id": "54F0oZpaDDts",
        "outputId": "2658d09a-fb48-4956-d1b7-dfe22301e6d7"
      },
      "execution_count": 4,
      "outputs": [
        {
          "output_type": "stream",
          "name": "stdout",
          "text": [
            "Funny Got Data MIS Data Systems Business Analyst T-Shirt\n",
            "15 ratings\n",
            "FREE Returns\n"
          ]
        }
      ]
    },
    {
      "cell_type": "code",
      "source": [
        "#datetime\n",
        "import datetime\n",
        "import time\n",
        "datewhendatacollected=datetime.date.today()\n",
        "print(datewhendatacollected)\n",
        "\n"
      ],
      "metadata": {
        "colab": {
          "base_uri": "https://localhost:8080/"
        },
        "id": "Cu_PfBxAlVLL",
        "outputId": "fe8205bc-54dc-4dc4-c0cf-427e22509325"
      },
      "execution_count": 5,
      "outputs": [
        {
          "output_type": "stream",
          "name": "stdout",
          "text": [
            "2023-01-30\n"
          ]
        }
      ]
    },
    {
      "cell_type": "code",
      "source": [
        "#pull this data into csv\n",
        "import csv\n",
        "header=['title','custrating','returns','datewhendatacollected']\n",
        "data=[title,custrating,returns,datewhendatacollected]\n",
        "#type(data)\n",
        "with open('AmazonWebScrapedData.csv','w',newline='',encoding='UTF8')as f:\n",
        "  writer=csv.writer(f)\n",
        "  writer.writerow(header)\n",
        "  writer.writerow(data)"
      ],
      "metadata": {
        "id": "9TiRW-yID_Ka"
      },
      "execution_count": 6,
      "outputs": []
    },
    {
      "cell_type": "code",
      "source": [
        "#appending data to csv\n",
        "with open('AmazonWebScrapedData.csv','a+',newline='',encoding='UTF8')as f:\n",
        "  writer=csv.writer(f)\n",
        "  #writer.writerow(header)\n",
        "  writer.writerow(data)"
      ],
      "metadata": {
        "id": "9DaXtii_rTEq"
      },
      "execution_count": 12,
      "outputs": []
    },
    {
      "cell_type": "code",
      "source": [
        "import pandas as pd\n",
        "pd.read_csv(\"/content/AmazonWebScrapedData.csv\")"
      ],
      "metadata": {
        "colab": {
          "base_uri": "https://localhost:8080/",
          "height": 206
        },
        "id": "gh2mKG8cpE2b",
        "outputId": "2b00f95f-5bd6-4f9d-f2af-a5a39a35b731"
      },
      "execution_count": 13,
      "outputs": [
        {
          "output_type": "execute_result",
          "data": {
            "text/plain": [
              "                                               title  custrating  \\\n",
              "0  Funny Got Data MIS Data Systems Business Analy...  15 ratings   \n",
              "1  Funny Got Data MIS Data Systems Business Analy...  15 ratings   \n",
              "2  Funny Got Data MIS Data Systems Business Analy...  15 ratings   \n",
              "3  Funny Got Data MIS Data Systems Business Analy...  15 ratings   \n",
              "4  Funny Got Data MIS Data Systems Business Analy...  15 ratings   \n",
              "\n",
              "        returns datewhendatacollected  \n",
              "0  FREE Returns            2023-01-30  \n",
              "1  FREE Returns            2023-01-30  \n",
              "2  FREE Returns            2023-01-30  \n",
              "3  FREE Returns            2023-01-30  \n",
              "4  FREE Returns            2023-01-30  "
            ],
            "text/html": [
              "\n",
              "  <div id=\"df-d7d10b0d-99e7-4e64-8f9e-d2befb97ac07\">\n",
              "    <div class=\"colab-df-container\">\n",
              "      <div>\n",
              "<style scoped>\n",
              "    .dataframe tbody tr th:only-of-type {\n",
              "        vertical-align: middle;\n",
              "    }\n",
              "\n",
              "    .dataframe tbody tr th {\n",
              "        vertical-align: top;\n",
              "    }\n",
              "\n",
              "    .dataframe thead th {\n",
              "        text-align: right;\n",
              "    }\n",
              "</style>\n",
              "<table border=\"1\" class=\"dataframe\">\n",
              "  <thead>\n",
              "    <tr style=\"text-align: right;\">\n",
              "      <th></th>\n",
              "      <th>title</th>\n",
              "      <th>custrating</th>\n",
              "      <th>returns</th>\n",
              "      <th>datewhendatacollected</th>\n",
              "    </tr>\n",
              "  </thead>\n",
              "  <tbody>\n",
              "    <tr>\n",
              "      <th>0</th>\n",
              "      <td>Funny Got Data MIS Data Systems Business Analy...</td>\n",
              "      <td>15 ratings</td>\n",
              "      <td>FREE Returns</td>\n",
              "      <td>2023-01-30</td>\n",
              "    </tr>\n",
              "    <tr>\n",
              "      <th>1</th>\n",
              "      <td>Funny Got Data MIS Data Systems Business Analy...</td>\n",
              "      <td>15 ratings</td>\n",
              "      <td>FREE Returns</td>\n",
              "      <td>2023-01-30</td>\n",
              "    </tr>\n",
              "    <tr>\n",
              "      <th>2</th>\n",
              "      <td>Funny Got Data MIS Data Systems Business Analy...</td>\n",
              "      <td>15 ratings</td>\n",
              "      <td>FREE Returns</td>\n",
              "      <td>2023-01-30</td>\n",
              "    </tr>\n",
              "    <tr>\n",
              "      <th>3</th>\n",
              "      <td>Funny Got Data MIS Data Systems Business Analy...</td>\n",
              "      <td>15 ratings</td>\n",
              "      <td>FREE Returns</td>\n",
              "      <td>2023-01-30</td>\n",
              "    </tr>\n",
              "    <tr>\n",
              "      <th>4</th>\n",
              "      <td>Funny Got Data MIS Data Systems Business Analy...</td>\n",
              "      <td>15 ratings</td>\n",
              "      <td>FREE Returns</td>\n",
              "      <td>2023-01-30</td>\n",
              "    </tr>\n",
              "  </tbody>\n",
              "</table>\n",
              "</div>\n",
              "      <button class=\"colab-df-convert\" onclick=\"convertToInteractive('df-d7d10b0d-99e7-4e64-8f9e-d2befb97ac07')\"\n",
              "              title=\"Convert this dataframe to an interactive table.\"\n",
              "              style=\"display:none;\">\n",
              "        \n",
              "  <svg xmlns=\"http://www.w3.org/2000/svg\" height=\"24px\"viewBox=\"0 0 24 24\"\n",
              "       width=\"24px\">\n",
              "    <path d=\"M0 0h24v24H0V0z\" fill=\"none\"/>\n",
              "    <path d=\"M18.56 5.44l.94 2.06.94-2.06 2.06-.94-2.06-.94-.94-2.06-.94 2.06-2.06.94zm-11 1L8.5 8.5l.94-2.06 2.06-.94-2.06-.94L8.5 2.5l-.94 2.06-2.06.94zm10 10l.94 2.06.94-2.06 2.06-.94-2.06-.94-.94-2.06-.94 2.06-2.06.94z\"/><path d=\"M17.41 7.96l-1.37-1.37c-.4-.4-.92-.59-1.43-.59-.52 0-1.04.2-1.43.59L10.3 9.45l-7.72 7.72c-.78.78-.78 2.05 0 2.83L4 21.41c.39.39.9.59 1.41.59.51 0 1.02-.2 1.41-.59l7.78-7.78 2.81-2.81c.8-.78.8-2.07 0-2.86zM5.41 20L4 18.59l7.72-7.72 1.47 1.35L5.41 20z\"/>\n",
              "  </svg>\n",
              "      </button>\n",
              "      \n",
              "  <style>\n",
              "    .colab-df-container {\n",
              "      display:flex;\n",
              "      flex-wrap:wrap;\n",
              "      gap: 12px;\n",
              "    }\n",
              "\n",
              "    .colab-df-convert {\n",
              "      background-color: #E8F0FE;\n",
              "      border: none;\n",
              "      border-radius: 50%;\n",
              "      cursor: pointer;\n",
              "      display: none;\n",
              "      fill: #1967D2;\n",
              "      height: 32px;\n",
              "      padding: 0 0 0 0;\n",
              "      width: 32px;\n",
              "    }\n",
              "\n",
              "    .colab-df-convert:hover {\n",
              "      background-color: #E2EBFA;\n",
              "      box-shadow: 0px 1px 2px rgba(60, 64, 67, 0.3), 0px 1px 3px 1px rgba(60, 64, 67, 0.15);\n",
              "      fill: #174EA6;\n",
              "    }\n",
              "\n",
              "    [theme=dark] .colab-df-convert {\n",
              "      background-color: #3B4455;\n",
              "      fill: #D2E3FC;\n",
              "    }\n",
              "\n",
              "    [theme=dark] .colab-df-convert:hover {\n",
              "      background-color: #434B5C;\n",
              "      box-shadow: 0px 1px 3px 1px rgba(0, 0, 0, 0.15);\n",
              "      filter: drop-shadow(0px 1px 2px rgba(0, 0, 0, 0.3));\n",
              "      fill: #FFFFFF;\n",
              "    }\n",
              "  </style>\n",
              "\n",
              "      <script>\n",
              "        const buttonEl =\n",
              "          document.querySelector('#df-d7d10b0d-99e7-4e64-8f9e-d2befb97ac07 button.colab-df-convert');\n",
              "        buttonEl.style.display =\n",
              "          google.colab.kernel.accessAllowed ? 'block' : 'none';\n",
              "\n",
              "        async function convertToInteractive(key) {\n",
              "          const element = document.querySelector('#df-d7d10b0d-99e7-4e64-8f9e-d2befb97ac07');\n",
              "          const dataTable =\n",
              "            await google.colab.kernel.invokeFunction('convertToInteractive',\n",
              "                                                     [key], {});\n",
              "          if (!dataTable) return;\n",
              "\n",
              "          const docLinkHtml = 'Like what you see? Visit the ' +\n",
              "            '<a target=\"_blank\" href=https://colab.research.google.com/notebooks/data_table.ipynb>data table notebook</a>'\n",
              "            + ' to learn more about interactive tables.';\n",
              "          element.innerHTML = '';\n",
              "          dataTable['output_type'] = 'display_data';\n",
              "          await google.colab.output.renderOutput(dataTable, element);\n",
              "          const docLink = document.createElement('div');\n",
              "          docLink.innerHTML = docLinkHtml;\n",
              "          element.appendChild(docLink);\n",
              "        }\n",
              "      </script>\n",
              "    </div>\n",
              "  </div>\n",
              "  "
            ]
          },
          "metadata": {},
          "execution_count": 13
        }
      ]
    }
  ]
}